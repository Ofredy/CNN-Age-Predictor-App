{
  "nbformat": 4,
  "nbformat_minor": 0,
  "metadata": {
    "colab": {
      "provenance": [],
      "gpuType": "T4",
      "authorship_tag": "ABX9TyM67dduWEU6PB2bQ4DCcfNp",
      "include_colab_link": true
    },
    "kernelspec": {
      "name": "python3",
      "display_name": "Python 3"
    },
    "language_info": {
      "name": "python"
    },
    "accelerator": "GPU"
  },
  "cells": [
    {
      "cell_type": "markdown",
      "metadata": {
        "id": "view-in-github",
        "colab_type": "text"
      },
      "source": [
        "<a href=\"https://colab.research.google.com/github/Ofredy/CNN-Age-Predictor-App/blob/main/workshop/week4/AgePredictorTraining.ipynb\" target=\"_parent\"><img src=\"https://colab.research.google.com/assets/colab-badge.svg\" alt=\"Open In Colab\"/></a>"
      ]
    },
    {
      "cell_type": "code",
      "source": [
        "# System imports\n",
        "import os\n",
        "import time\n",
        "\n",
        "# Library imports\n",
        "import torch\n",
        "import torch.nn as nn\n",
        "import torch.optim as optim\n",
        "import torchvision.models as models\n",
        "from torch.utils.data import Dataset\n",
        "from torch.utils.data import DataLoader\n",
        "from torchvision import transforms\n",
        "import cv2\n",
        "import pandas as pd\n",
        "\n",
        "!pip install onnx\n",
        "import onnx"
      ],
      "metadata": {
        "id": "UBXKIL0QuzPK",
        "colab": {
          "base_uri": "https://localhost:8080/"
        },
        "outputId": "150c88a4-e6a5-48d6-8f8d-01a417217332"
      },
      "execution_count": 12,
      "outputs": [
        {
          "output_type": "stream",
          "name": "stdout",
          "text": [
            "Collecting onnx\n",
            "  Downloading onnx-1.16.0-cp310-cp310-manylinux_2_17_x86_64.manylinux2014_x86_64.whl (15.9 MB)\n",
            "\u001b[2K     \u001b[90m━━━━━━━━━━━━━━━━━━━━━━━━━━━━━━━━━━━━━━━━\u001b[0m \u001b[32m15.9/15.9 MB\u001b[0m \u001b[31m46.3 MB/s\u001b[0m eta \u001b[36m0:00:00\u001b[0m\n",
            "\u001b[?25hRequirement already satisfied: numpy>=1.20 in /usr/local/lib/python3.10/dist-packages (from onnx) (1.25.2)\n",
            "Requirement already satisfied: protobuf>=3.20.2 in /usr/local/lib/python3.10/dist-packages (from onnx) (3.20.3)\n",
            "Installing collected packages: onnx\n",
            "Successfully installed onnx-1.16.0\n"
          ]
        }
      ]
    },
    {
      "cell_type": "code",
      "source": [
        "# DATASET CONFIGS\n",
        "BATCH_SIZE = 32\n",
        "INPUT_CHANNELS = 3\n",
        "IMG_SIZE = 244\n",
        "PATH_TO_FOLDER = \"\"\n",
        "TRAIN_CSV = \"fairface-label-train.csv\"\n",
        "VAL_CSV = \"fairface-label-val.csv\"\n",
        "\n",
        "# CNN CONFIGS\n",
        "DEVICE = 'cuda' if torch.cuda.is_available() else 'cpu'\n",
        "MOBILENET_V3_AVG_POOL_OUT_SIZE = 960\n",
        "NUM_EPOCHS = 5\n",
        "LEARNING_RATE = 1e-4\n",
        "LAST_LAYER_TO_FREEZE = 171\n",
        "TRAIN_AGE_PRED_ONNX_PATH = \"age_predictor.onnx\""
      ],
      "metadata": {
        "id": "VtsbNtagu_tv"
      },
      "execution_count": null,
      "outputs": []
    },
    {
      "cell_type": "code",
      "source": [
        "# Collecting data to train the Age Predictor\n",
        "from pydrive.auth import GoogleAuth\n",
        "from pydrive.drive import GoogleDrive\n",
        "from google.colab import auth\n",
        "from oauth2client.client import GoogleCredentials\n",
        "\n",
        "auth.authenticate_user()\n",
        "gauth = GoogleAuth()\n",
        "gauth.credentials = GoogleCredentials.get_application_default()\n",
        "drive = GoogleDrive(gauth)\n",
        "\n",
        "def getFile_from_drive( file_id, name ):\n",
        "  downloaded = drive.CreateFile({'id': file_id})\n",
        "  downloaded.GetContentFile(name)\n",
        "\n",
        "getFile_from_drive('1Z1RqRo0_JiavaZw2yzZG6WETdZQ8qX86', 'fairface-img-margin025-trainval.zip')\n",
        "getFile_from_drive('1k5vvyREmHDW5TSM9QgB04Bvc8C8_7dl-', 'fairface-label-train.csv')\n",
        "getFile_from_drive('1_rtz1M1zhvS0d5vVoXUamnohB6cJ02iJ', 'fairface-label-val.csv')\n",
        "\n",
        "!unzip -qq fairface-img-margin025-trainval.zip"
      ],
      "metadata": {
        "colab": {
          "base_uri": "https://localhost:8080/"
        },
        "id": "-xrjvBlFuMTe",
        "outputId": "0fffcd79-0337-4af0-f259-eb9bd1914f5a"
      },
      "execution_count": null,
      "outputs": [
        {
          "output_type": "stream",
          "name": "stderr",
          "text": [
            "WARNING:root:pydrive is deprecated and no longer maintained. We recommend that you migrate your projects to pydrive2, the maintained fork of pydrive\n"
          ]
        }
      ]
    },
    {
      "cell_type": "code",
      "source": [
        "# Dataset class\n",
        "\n",
        "class AgeDataset(Dataset):\n",
        "\n",
        "    def __init__(self, data_frame):\n",
        "\n",
        "        self.data_frame = data_frame\n",
        "\n",
        "        # Normalizing transform for images\n",
        "        self.normalize = transforms.Normalize(mean=[0.485, 0.456, 0.406],\n",
        "                                              std=[0.229, 0.224, 0.225])\n",
        "\n",
        "    def __len__(self):\n",
        "        return len(self.data_frame)\n",
        "\n",
        "    def __getitem__(self, index):\n",
        "\n",
        "        # Parsing csv file for information\n",
        "        f = self.data_frame.iloc[index].squeeze()\n",
        "        file = os.path.join(PATH_TO_FOLDER, f.file)\n",
        "        age = f.age\n",
        "        img = cv2.imread(file)\n",
        "        img = cv2.cvtColor(img, cv2.COLOR_BGR2RGB)\n",
        "\n",
        "        return img, age\n",
        "\n",
        "    def preprocess_image(self, img):\n",
        "\n",
        "        img = cv2.resize(img, (IMG_SIZE, IMG_SIZE))\n",
        "        img = torch.tensor(img).permute(2, 0, 1)\n",
        "        img = self.normalize(img/255)\n",
        "\n",
        "        return img[None]\n",
        "\n",
        "    def collate_fn(self, batch):\n",
        "\n",
        "        imgs, ages = [], []\n",
        "\n",
        "        for img, age in batch:\n",
        "            img = self.preprocess_image(img)\n",
        "            imgs.append(img)\n",
        "\n",
        "            ages.append(float(int(age)/80))\n",
        "\n",
        "        ages = torch.tensor(ages).to(DEVICE).float()\n",
        "\n",
        "        imgs = torch.cat(imgs).to(DEVICE)\n",
        "\n",
        "        return imgs, ages"
      ],
      "metadata": {
        "id": "4_5WcLWeuYom"
      },
      "execution_count": null,
      "outputs": []
    },
    {
      "cell_type": "code",
      "source": [
        "# AgePredictor Model\n",
        "\n",
        "class AgePredictor(nn.Module):\n",
        "\n",
        "    def __init__(self):\n",
        "\n",
        "        super().__init__()\n",
        "\n",
        "        # Loading in the mobilenet_v3 model\n",
        "        self.mobilenet_v3_age_predictor = models.mobilenet_v3_large(weights=models.MobileNet_V3_Large_Weights.DEFAULT)\n",
        "\n",
        "        # Freeze parameters so we don't backprop through them\n",
        "        for param in self.mobilenet_v3_age_predictor.parameters():\n",
        "            param.requires_grad = False\n",
        "\n",
        "        # Modifying the classifier to instead predict age\n",
        "        self.mobilenet_v3_age_predictor.classifier = nn.Sequential(\n",
        "            nn.Linear(MOBILENET_V3_AVG_POOL_OUT_SIZE, MOBILENET_V3_AVG_POOL_OUT_SIZE//2),\n",
        "            nn.ReLU(),\n",
        "            nn.Dropout(0.4),\n",
        "            nn.Linear(MOBILENET_V3_AVG_POOL_OUT_SIZE//2, MOBILENET_V3_AVG_POOL_OUT_SIZE//4),\n",
        "            nn.ReLU(),\n",
        "            nn.Dropout(0.4),\n",
        "            nn.Linear(MOBILENET_V3_AVG_POOL_OUT_SIZE//4, 1),\n",
        "            nn.Sigmoid()\n",
        "        )\n",
        "\n",
        "        self.mobilenet_v3_age_predictor.to(DEVICE)\n",
        "\n",
        "    def forward(self, input_image):\n",
        "\n",
        "        # Inputting the input_image and getting our age prediction\n",
        "        return self.mobilenet_v3_age_predictor(input_image)\n",
        "\n",
        "    def save_model_onnx(self):\n",
        "\n",
        "        torch_input = torch.randn(1, INPUT_CHANNELS, IMG_SIZE, IMG_SIZE).to('cpu')\n",
        "        torch.onnx.export(self.mobilenet_v3_age_predictor.to('cpu'),\n",
        "                          torch_input,\n",
        "                          f=TRAIN_AGE_PRED_ONNX_PATH)"
      ],
      "metadata": {
        "id": "aUMzMZckv6yj"
      },
      "execution_count": null,
      "outputs": []
    },
    {
      "cell_type": "code",
      "source": [
        "# Training functions\n",
        "\n",
        "def train_batch(mobilenet_v3_age_predictor, age_criterion, optimizer, data):\n",
        "\n",
        "    mobilenet_v3_age_predictor.train()\n",
        "\n",
        "    img, age = data\n",
        "\n",
        "    optimizer.zero_grad()\n",
        "\n",
        "    # Forward prop of the model\n",
        "    predicted_age = mobilenet_v3_age_predictor(img)\n",
        "\n",
        "    # Backward prop of the model\n",
        "    age_loss = age_criterion(predicted_age.squeeze(), age)\n",
        "\n",
        "    age_loss.backward()\n",
        "\n",
        "    optimizer.step()\n",
        "\n",
        "    return age_loss\n",
        "\n",
        "def val_batch(mobilenet_v3_age_predictor, age_criterion, data):\n",
        "\n",
        "    mobilenet_v3_age_predictor.eval()\n",
        "\n",
        "    img, age = data\n",
        "\n",
        "    with torch.no_grad():\n",
        "        predicted_age = mobilenet_v3_age_predictor(img)\n",
        "\n",
        "    age_loss = age_criterion(predicted_age.squeeze(), age)\n",
        "\n",
        "    # No forward, this function is used to make sure we are not overfitting our training data\n",
        "    age_mae = torch.abs(age-predicted_age).float().sum()\n",
        "\n",
        "    return age_loss, age_mae\n",
        "\n",
        "def train_age_predictor(mobilenet_v3_age_predictor, age_criterion, optimizer, train_data_loader, val_data_loader):\n",
        "\n",
        "    starting_epoch = 0\n",
        "\n",
        "    print(\"Began training age_predictor, starting_epoch: %d, will train until num_epochs: %d\" % (starting_epoch, starting_epoch+NUM_EPOCHS))\n",
        "\n",
        "    start_time = time.time()\n",
        "\n",
        "    train_losses, val_losses = [], []\n",
        "    val_age_maes = []\n",
        "\n",
        "    n_epochs = NUM_EPOCHS\n",
        "\n",
        "    for epoch in range(starting_epoch, starting_epoch+n_epochs):\n",
        "\n",
        "        epoch_train_loss, epoch_val_loss = 0, 0\n",
        "        val_age_mae, ctr = 0, 0\n",
        "\n",
        "        # Training batch\n",
        "        for _, data in enumerate(train_data_loader):\n",
        "            loss = train_batch(mobilenet_v3_age_predictor, age_criterion, optimizer, data)\n",
        "            epoch_train_loss += loss.item()\n",
        "\n",
        "        # Validation batch\n",
        "        for _, data in enumerate(val_data_loader):\n",
        "            loss, age_mae = val_batch(mobilenet_v3_age_predictor, age_criterion, data)\n",
        "            epoch_val_loss += loss.item()\n",
        "            val_age_mae += age_mae\n",
        "            ctr += len(data[0])\n",
        "\n",
        "        # Avergaging the epoch results\n",
        "        epoch_train_loss /= len(train_data_loader)\n",
        "        epoch_val_loss /= len(val_data_loader)\n",
        "        val_age_mae /= ctr\n",
        "\n",
        "        train_losses.append(epoch_train_loss)\n",
        "        val_losses.append(epoch_val_loss)\n",
        "        val_age_maes.append(val_age_mae)\n",
        "\n",
        "        time_elasped = time.time() - start_time\n",
        "\n",
        "        epoch_age_pred_weight_path = os.path.join(\"{}age_predictor_weights.pt\".format(epoch+1))\n",
        "\n",
        "        # Saving the weights of the network\n",
        "        torch.save(mobilenet_v3_age_predictor.state_dict(), epoch_age_pred_weight_path)\n",
        "\n",
        "        print('{}/{} ({:.2f}s - {:.2f}s remaining)'.format(epoch+1, starting_epoch+n_epochs, time.time()-start_time, (starting_epoch-epoch)*(time_elasped/(epoch+1))))\n",
        "        print(\"train_loss: %.3f, val_loss: %.3f, val_age_mae:%.3f\" % (epoch_train_loss, epoch_val_loss, val_age_mae))\n"
      ],
      "metadata": {
        "id": "CUuGvEOuwmdZ"
      },
      "execution_count": null,
      "outputs": []
    },
    {
      "cell_type": "code",
      "source": [
        "train_dataframe = pd.read_csv(TRAIN_CSV)\n",
        "val_dataframe = pd.read_csv(VAL_CSV)\n",
        "\n",
        "train = AgeDataset(train_dataframe)\n",
        "val = AgeDataset(val_dataframe)\n",
        "\n",
        "# Making the dataloaders with the AgeDatasets\n",
        "train_data_loader = DataLoader(train, batch_size=BATCH_SIZE, shuffle=True, drop_last=True, collate_fn=train.collate_fn)\n",
        "val_data_loader = DataLoader(val, batch_size=BATCH_SIZE, shuffle=True, drop_last=True, collate_fn=val.collate_fn)\n",
        "\n",
        "age_predictor = AgePredictor()\n",
        "\n",
        "# Defining our Loss function and the optimizer\n",
        "age_criterion = nn.L1Loss()\n",
        "optimizer = optim.Adam(age_predictor.parameters(), lr=LEARNING_RATE)\n",
        "\n",
        "train_age_predictor(age_predictor, age_criterion, optimizer, train_data_loader, val_data_loader)"
      ],
      "metadata": {
        "colab": {
          "base_uri": "https://localhost:8080/"
        },
        "id": "RdHNr4coyUSU",
        "outputId": "5b3ddfa3-6925-49fe-bbd9-62801fa4e8f8"
      },
      "execution_count": null,
      "outputs": [
        {
          "output_type": "stream",
          "name": "stdout",
          "text": [
            "Began training age_predictor, starting_epoch: 0, will train until num_epochs: 5\n",
            "1/5 (413.28s - 0.00s remaining)\n",
            "train_loss: 0.127, val_loss: 0.116, val_age_mae:6.130\n",
            "2/5 (824.03s - -411.99s remaining)\n",
            "train_loss: 0.118, val_loss: 0.116, val_age_mae:6.150\n",
            "3/5 (1233.40s - -822.23s remaining)\n",
            "train_loss: 0.115, val_loss: 0.112, val_age_mae:6.081\n",
            "4/5 (1641.09s - -1230.76s remaining)\n",
            "train_loss: 0.113, val_loss: 0.111, val_age_mae:6.008\n",
            "5/5 (2054.38s - -1643.45s remaining)\n",
            "train_loss: 0.112, val_loss: 0.111, val_age_mae:6.098\n"
          ]
        }
      ]
    },
    {
      "cell_type": "code",
      "source": [
        "age_predictor.save_model_onnx()"
      ],
      "metadata": {
        "id": "58JnnfFN1bWS"
      },
      "execution_count": 13,
      "outputs": []
    }
  ]
}